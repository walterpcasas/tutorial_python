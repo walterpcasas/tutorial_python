{
  "nbformat": 4,
  "nbformat_minor": 0,
  "metadata": {
    "colab": {
      "name": "Basico.ipynb",
      "provenance": [],
      "collapsed_sections": []
    },
    "kernelspec": {
      "name": "python3",
      "display_name": "Python 3"
    },
    "language_info": {
      "name": "python"
    }
  },
  "cells": [
    {
      "cell_type": "code",
      "metadata": {
        "colab": {
          "base_uri": "https://localhost:8080/"
        },
        "id": "sk3-IZus7pJB",
        "outputId": "415008da-270f-4abc-be1e-4912b60b9742"
      },
      "source": [
        "print(\"Hello World!\")"
      ],
      "execution_count": null,
      "outputs": [
        {
          "output_type": "stream",
          "text": [
            "Hello World!\n"
          ],
          "name": "stdout"
        }
      ]
    },
    {
      "cell_type": "markdown",
      "metadata": {
        "id": "LC1bJhJwFbsh"
      },
      "source": [
        "# Impresión"
      ]
    },
    {
      "cell_type": "code",
      "metadata": {
        "colab": {
          "base_uri": "https://localhost:8080/"
        },
        "id": "73UCwUSKFbBN",
        "outputId": "61c08bd0-a0d8-46d9-a01a-4b2870c3c45e"
      },
      "source": [
        "print(\"Hola\")"
      ],
      "execution_count": null,
      "outputs": [
        {
          "output_type": "stream",
          "text": [
            "Hola\n"
          ],
          "name": "stdout"
        }
      ]
    },
    {
      "cell_type": "code",
      "metadata": {
        "colab": {
          "base_uri": "https://localhost:8080/"
        },
        "id": "xrXfW2diFouR",
        "outputId": "f47a7289-3812-4158-9d7f-06edfbbf0d32"
      },
      "source": [
        "print('Hola')"
      ],
      "execution_count": null,
      "outputs": [
        {
          "output_type": "stream",
          "text": [
            "Hola\n"
          ],
          "name": "stdout"
        }
      ]
    },
    {
      "cell_type": "code",
      "metadata": {
        "colab": {
          "base_uri": "https://localhost:8080/"
        },
        "id": "5Idq1szMGIqp",
        "outputId": "b0047d70-fa19-436e-b03f-d41dc346391c"
      },
      "source": [
        "print(\"Hola 'amigo'\")"
      ],
      "execution_count": null,
      "outputs": [
        {
          "output_type": "stream",
          "text": [
            "Hola 'amigo'\n"
          ],
          "name": "stdout"
        }
      ]
    },
    {
      "cell_type": "code",
      "metadata": {
        "colab": {
          "base_uri": "https://localhost:8080/"
        },
        "id": "R52PXtqmIOQ-",
        "outputId": "bab218e7-fbc9-4299-f4e3-c557c39e293f"
      },
      "source": [
        "print('hola')\n",
        "print('que')\n",
        "print('tal')"
      ],
      "execution_count": null,
      "outputs": [
        {
          "output_type": "stream",
          "text": [
            "hola\n",
            "que\n",
            "tal\n"
          ],
          "name": "stdout"
        }
      ]
    },
    {
      "cell_type": "code",
      "metadata": {
        "colab": {
          "base_uri": "https://localhost:8080/"
        },
        "id": "5zzJnOT8IUwd",
        "outputId": "25632628-2c2b-446d-e3f0-89a1e819cc8d"
      },
      "source": [
        "print('Hola', end='\\t')\n",
        "print('que', end='*')\n",
        "print('tal', end='\\n')\n",
        "print('?')"
      ],
      "execution_count": null,
      "outputs": [
        {
          "output_type": "stream",
          "text": [
            "Hola\tque*tal\n",
            "?\n"
          ],
          "name": "stdout"
        }
      ]
    },
    {
      "cell_type": "code",
      "metadata": {
        "colab": {
          "base_uri": "https://localhost:8080/"
        },
        "id": "zazlaGe1FqSq",
        "outputId": "2310e1de-3fc6-4eaa-caf8-db335d39c6b6"
      },
      "source": [
        "print(\"\"\"Hola\n",
        "que\n",
        "tal\"\"\")"
      ],
      "execution_count": null,
      "outputs": [
        {
          "output_type": "stream",
          "text": [
            "Hola\n",
            "que\n",
            "tal\n"
          ],
          "name": "stdout"
        }
      ]
    },
    {
      "cell_type": "markdown",
      "metadata": {
        "id": "0hwZJjMCF_8w"
      },
      "source": [
        "# Caracteres de Escape"
      ]
    },
    {
      "cell_type": "code",
      "metadata": {
        "colab": {
          "base_uri": "https://localhost:8080/"
        },
        "id": "24Q-Qx1eF9xx",
        "outputId": "aea081cb-28c3-488a-95a0-deaeafe13bc8"
      },
      "source": [
        "print('Hola\\nque\\ntal')"
      ],
      "execution_count": null,
      "outputs": [
        {
          "output_type": "stream",
          "text": [
            "Hola\n",
            "que\n",
            "tal\n"
          ],
          "name": "stdout"
        }
      ]
    },
    {
      "cell_type": "code",
      "metadata": {
        "colab": {
          "base_uri": "https://localhost:8080/"
        },
        "id": "4RPJewXLHBDr",
        "outputId": "416a36bb-33d4-4a46-d52a-7de15a6711cd"
      },
      "source": [
        "print('Hola\\tque\\ttal')"
      ],
      "execution_count": null,
      "outputs": [
        {
          "output_type": "stream",
          "text": [
            "Hola\tque\ttal\n"
          ],
          "name": "stdout"
        }
      ]
    },
    {
      "cell_type": "code",
      "metadata": {
        "colab": {
          "base_uri": "https://localhost:8080/"
        },
        "id": "65zJ5rH_HIVb",
        "outputId": "c940fc47-cecb-46f5-d4de-19625405631d"
      },
      "source": [
        "print('Hola\\rque\\rtal')"
      ],
      "execution_count": null,
      "outputs": [
        {
          "output_type": "stream",
          "text": [
            "Hola\rque\rtal\n"
          ],
          "name": "stdout"
        }
      ]
    },
    {
      "cell_type": "code",
      "metadata": {
        "colab": {
          "base_uri": "https://localhost:8080/"
        },
        "id": "HA43KwtxHT2u",
        "outputId": "692697af-9802-450d-a77c-0d9d1804454e"
      },
      "source": [
        "print('Hola \\'que\\' tal')"
      ],
      "execution_count": null,
      "outputs": [
        {
          "output_type": "stream",
          "text": [
            "Hola 'que' tal\n"
          ],
          "name": "stdout"
        }
      ]
    },
    {
      "cell_type": "code",
      "metadata": {
        "colab": {
          "base_uri": "https://localhost:8080/"
        },
        "id": "Ti66sWqrHYH6",
        "outputId": "2fb436bc-48aa-4f3d-c050-d910a40ce2a1"
      },
      "source": [
        "print('Hola que\\\\ tal')"
      ],
      "execution_count": null,
      "outputs": [
        {
          "output_type": "stream",
          "text": [
            "Hola que\\ tal\n"
          ],
          "name": "stdout"
        }
      ]
    },
    {
      "cell_type": "code",
      "metadata": {
        "colab": {
          "base_uri": "https://localhost:8080/"
        },
        "id": "ugMjNc9cF0m_",
        "outputId": "a45defad-e58f-4027-ccc5-249eb5473da9"
      },
      "source": [
        "print(8)"
      ],
      "execution_count": null,
      "outputs": [
        {
          "output_type": "stream",
          "text": [
            "8\n"
          ],
          "name": "stdout"
        }
      ]
    },
    {
      "cell_type": "markdown",
      "metadata": {
        "id": "-xrVz07aIxpc"
      },
      "source": [
        "# Operaciones"
      ]
    },
    {
      "cell_type": "code",
      "metadata": {
        "colab": {
          "base_uri": "https://localhost:8080/"
        },
        "id": "6tQ9NdsBIwGW",
        "outputId": "d49306df-96e2-47bb-c312-6e2fdb40500d"
      },
      "source": [
        "print(2 + 3)"
      ],
      "execution_count": null,
      "outputs": [
        {
          "output_type": "stream",
          "text": [
            "5\n"
          ],
          "name": "stdout"
        }
      ]
    },
    {
      "cell_type": "code",
      "metadata": {
        "colab": {
          "base_uri": "https://localhost:8080/"
        },
        "id": "bGyTTAR5I_0Z",
        "outputId": "3188d2e0-0f1c-4a01-d5d8-8b8805df3a44"
      },
      "source": [
        "print(2 - 3)"
      ],
      "execution_count": null,
      "outputs": [
        {
          "output_type": "stream",
          "text": [
            "-1\n"
          ],
          "name": "stdout"
        }
      ]
    },
    {
      "cell_type": "code",
      "metadata": {
        "colab": {
          "base_uri": "https://localhost:8080/"
        },
        "id": "ZjRcl8glI7Ds",
        "outputId": "38efa8bc-a736-4292-ad76-484ca37e6115"
      },
      "source": [
        "print(2 * 3)"
      ],
      "execution_count": null,
      "outputs": [
        {
          "output_type": "stream",
          "text": [
            "6\n"
          ],
          "name": "stdout"
        }
      ]
    },
    {
      "cell_type": "code",
      "metadata": {
        "colab": {
          "base_uri": "https://localhost:8080/"
        },
        "id": "SPqDekGlI6jF",
        "outputId": "13d3c25e-ac75-4eaf-a13e-60eb282d1bdb"
      },
      "source": [
        "print(7 / 3)"
      ],
      "execution_count": null,
      "outputs": [
        {
          "output_type": "stream",
          "text": [
            "2.3333333333333335\n"
          ],
          "name": "stdout"
        }
      ]
    },
    {
      "cell_type": "code",
      "metadata": {
        "colab": {
          "base_uri": "https://localhost:8080/"
        },
        "id": "DsNv0iE2I52F",
        "outputId": "9d65984e-66cd-4e5c-c288-0808db8f6fba"
      },
      "source": [
        "print(7 // 3)"
      ],
      "execution_count": null,
      "outputs": [
        {
          "output_type": "stream",
          "text": [
            "2\n"
          ],
          "name": "stdout"
        }
      ]
    },
    {
      "cell_type": "code",
      "metadata": {
        "colab": {
          "base_uri": "https://localhost:8080/"
        },
        "id": "YTXZjhLKJKGy",
        "outputId": "f76efb1b-c708-43ff-919e-52c5bebef496"
      },
      "source": [
        "print(2 ** 3)"
      ],
      "execution_count": null,
      "outputs": [
        {
          "output_type": "stream",
          "text": [
            "8\n"
          ],
          "name": "stdout"
        }
      ]
    },
    {
      "cell_type": "code",
      "metadata": {
        "colab": {
          "base_uri": "https://localhost:8080/"
        },
        "id": "-KkHsaTNJJnc",
        "outputId": "0eeef769-b1ee-4c17-ffc3-94f61a51afe1"
      },
      "source": [
        "print(13 % 3)"
      ],
      "execution_count": null,
      "outputs": [
        {
          "output_type": "stream",
          "text": [
            "1\n"
          ],
          "name": "stdout"
        }
      ]
    },
    {
      "cell_type": "markdown",
      "metadata": {
        "id": "EhcW5sV38E7H"
      },
      "source": [
        "# Variables"
      ]
    },
    {
      "cell_type": "markdown",
      "metadata": {
        "id": "CIxt5IxXNswj"
      },
      "source": [
        "https://upload.wikimedia.org/wikipedia/commons/8/80/CPT-programming-variable.svg"
      ]
    },
    {
      "cell_type": "markdown",
      "metadata": {
        "id": "HHq9-QMuN1za"
      },
      "source": [
        "|       |Palabras| de    |  uso  |restringido|      |\n",
        "|-------|--------|-------|-------|-----------|------|\n",
        "| False | None   | True  |  and  |  assert   | as   |\n",
        "| break | class  | def   |  del  | continue  | else |\n",
        "| elif  | except | for   | from  | finally   | if   |\n",
        "| not   | lambda | is    |  in   | import    |global|\n",
        "| or    | pass   | raise | return| nonlocal  |try   |\n",
        "| return| while  | with  | yield |\n",
        "\n",
        "\n"
      ]
    },
    {
      "cell_type": "code",
      "metadata": {
        "id": "Gp_rMD_g8EhC"
      },
      "source": [
        "numero ="
      ],
      "execution_count": null,
      "outputs": []
    },
    {
      "cell_type": "code",
      "metadata": {
        "id": "MOBeFj917wWk"
      },
      "source": [
        "decimal = 4.5"
      ],
      "execution_count": null,
      "outputs": []
    },
    {
      "cell_type": "code",
      "metadata": {
        "id": "qIpiVJ8kJ9JP"
      },
      "source": [
        "texto = 'Esto es un texto'"
      ],
      "execution_count": null,
      "outputs": []
    },
    {
      "cell_type": "code",
      "metadata": {
        "id": "tR34eTQ0KBGV"
      },
      "source": [
        "booleano = True"
      ],
      "execution_count": null,
      "outputs": []
    },
    {
      "cell_type": "code",
      "metadata": {
        "colab": {
          "base_uri": "https://localhost:8080/"
        },
        "id": "osEKJcI7L7QN",
        "outputId": "6fb32f85-819f-4860-b4b2-e0174f78d845"
      },
      "source": [
        "print(texto)"
      ],
      "execution_count": null,
      "outputs": [
        {
          "output_type": "stream",
          "text": [
            "Esto es un texto\n"
          ],
          "name": "stdout"
        }
      ]
    },
    {
      "cell_type": "code",
      "metadata": {
        "colab": {
          "base_uri": "https://localhost:8080/"
        },
        "id": "lKVQT68JL2lr",
        "outputId": "4e157c82-5a00-4e2f-bdac-c371dedaa64e"
      },
      "source": [
        "print(numero + decimal)"
      ],
      "execution_count": null,
      "outputs": [
        {
          "output_type": "stream",
          "text": [
            "8.5\n"
          ],
          "name": "stdout"
        }
      ]
    },
    {
      "cell_type": "markdown",
      "metadata": {
        "id": "HZASqAuWLtuX"
      },
      "source": [
        "Fuertemente Tipadas"
      ]
    },
    {
      "cell_type": "code",
      "metadata": {
        "colab": {
          "base_uri": "https://localhost:8080/",
          "height": 169
        },
        "id": "ZkLraYI9Ljkx",
        "outputId": "36966af7-dedf-467d-fa47-2313adc1d253"
      },
      "source": [
        "print(numero + texto)"
      ],
      "execution_count": null,
      "outputs": [
        {
          "output_type": "error",
          "ename": "TypeError",
          "evalue": "ignored",
          "traceback": [
            "\u001b[0;31m---------------------------------------------------------------------------\u001b[0m",
            "\u001b[0;31mTypeError\u001b[0m                                 Traceback (most recent call last)",
            "\u001b[0;32m<ipython-input-58-cbe731fcc2c4>\u001b[0m in \u001b[0;36m<module>\u001b[0;34m()\u001b[0m\n\u001b[0;32m----> 1\u001b[0;31m \u001b[0mprint\u001b[0m\u001b[0;34m(\u001b[0m\u001b[0mnumero\u001b[0m \u001b[0;34m+\u001b[0m \u001b[0mtexto\u001b[0m\u001b[0;34m)\u001b[0m\u001b[0;34m\u001b[0m\u001b[0;34m\u001b[0m\u001b[0m\n\u001b[0m",
            "\u001b[0;31mTypeError\u001b[0m: unsupported operand type(s) for +: 'int' and 'str'"
          ]
        }
      ]
    },
    {
      "cell_type": "markdown",
      "metadata": {
        "id": "AXc4zfccLaOS"
      },
      "source": [
        "Dinamicamente tipadas"
      ]
    },
    {
      "cell_type": "code",
      "metadata": {
        "colab": {
          "base_uri": "https://localhost:8080/"
        },
        "id": "Gb63wzj_LlPp",
        "outputId": "d92ce939-ba9c-4e19-e840-09ea673dbc8c"
      },
      "source": [
        "print(numero)"
      ],
      "execution_count": null,
      "outputs": [
        {
          "output_type": "stream",
          "text": [
            "4\n"
          ],
          "name": "stdout"
        }
      ]
    },
    {
      "cell_type": "code",
      "metadata": {
        "colab": {
          "base_uri": "https://localhost:8080/"
        },
        "id": "nB4C5IBdLnAv",
        "outputId": "3cd395f8-b60b-4c6e-f870-3f8f266541cb"
      },
      "source": [
        "print(type(numero))"
      ],
      "execution_count": null,
      "outputs": [
        {
          "output_type": "stream",
          "text": [
            "<class 'int'>\n"
          ],
          "name": "stdout"
        }
      ]
    },
    {
      "cell_type": "code",
      "metadata": {
        "id": "relqc8nWLZzy"
      },
      "source": [
        "numero = 5.6"
      ],
      "execution_count": null,
      "outputs": []
    },
    {
      "cell_type": "code",
      "metadata": {
        "colab": {
          "base_uri": "https://localhost:8080/"
        },
        "id": "tZIip1HDKHSu",
        "outputId": "e300d776-61a9-474e-d15e-b3ac8a72748f"
      },
      "source": [
        "print(numero)"
      ],
      "execution_count": null,
      "outputs": [
        {
          "output_type": "stream",
          "text": [
            "5.6\n"
          ],
          "name": "stdout"
        }
      ]
    },
    {
      "cell_type": "code",
      "metadata": {
        "colab": {
          "base_uri": "https://localhost:8080/"
        },
        "id": "hqiFpY2YLfsL",
        "outputId": "2590118c-5c43-42c6-96ef-c865bdaaa307"
      },
      "source": [
        "print(type(numero))"
      ],
      "execution_count": null,
      "outputs": [
        {
          "output_type": "stream",
          "text": [
            "<class 'float'>\n"
          ],
          "name": "stdout"
        }
      ]
    },
    {
      "cell_type": "markdown",
      "metadata": {
        "id": "gGvjRWSWSp7t"
      },
      "source": [
        "# Identación"
      ]
    },
    {
      "cell_type": "markdown",
      "metadata": {
        "id": "i2RbQXDeS5_j"
      },
      "source": [
        "```\n",
        "comando0\n",
        "\n",
        "funcion1():\n",
        "|->comando1\n",
        "|->comando2\n",
        "|\n",
        "|->funcion2():\n",
        "|->|->comando3\n",
        "|->|->comando4\n",
        "\n",
        "comando5\n",
        "comando6\n",
        "\n",
        "funcion3():\n",
        "|->comando7\n",
        "|->comando8\n",
        "\n",
        "comando9\n",
        "```"
      ]
    },
    {
      "cell_type": "markdown",
      "metadata": {
        "id": "iF9eek7RMn3M"
      },
      "source": [
        "# Estructuras de Control"
      ]
    },
    {
      "cell_type": "markdown",
      "metadata": {
        "id": "ardxPp_sRgFT"
      },
      "source": [
        "Selectivas"
      ]
    },
    {
      "cell_type": "code",
      "metadata": {
        "colab": {
          "base_uri": "https://localhost:8080/"
        },
        "id": "78x_0pXaRfOp",
        "outputId": "10b07315-b5bf-4b16-ee31-79408d2876d5"
      },
      "source": [
        "var1 = 21\n",
        "var2 = 7\n",
        "\n",
        "if var1 > var2:\n",
        "  print('mayor')"
      ],
      "execution_count": null,
      "outputs": [
        {
          "output_type": "stream",
          "text": [
            "mayor\n"
          ],
          "name": "stdout"
        }
      ]
    },
    {
      "cell_type": "code",
      "metadata": {
        "colab": {
          "base_uri": "https://localhost:8080/"
        },
        "id": "jiRTDPlLMCm5",
        "outputId": "df1d8644-7a0d-42f9-beeb-81660fb2edf2"
      },
      "source": [
        "var1 = 21\n",
        "var2 = 25\n",
        "\n",
        "if var1 > var2:\n",
        "  print('mayor')\n",
        "else:\n",
        "  print('menor')"
      ],
      "execution_count": null,
      "outputs": [
        {
          "output_type": "stream",
          "text": [
            "menor\n"
          ],
          "name": "stdout"
        }
      ]
    },
    {
      "cell_type": "code",
      "metadata": {
        "colab": {
          "base_uri": "https://localhost:8080/"
        },
        "id": "3yXdZSW5SJX0",
        "outputId": "83889b98-2865-40bf-bcc2-854e1dd9ccfa"
      },
      "source": [
        "var1 = 21\n",
        "var2 = 7\n",
        "var3 = 14\n",
        "\n",
        "if var1 > var2:\n",
        "  print('mayor a 2')\n",
        "  if var1 > var3:\n",
        "    print('mayor a todos')\n",
        "else:\n",
        "  print('menor')"
      ],
      "execution_count": null,
      "outputs": [
        {
          "output_type": "stream",
          "text": [
            "mayor a 2\n",
            "mayor a todos\n"
          ],
          "name": "stdout"
        }
      ]
    },
    {
      "cell_type": "code",
      "metadata": {
        "colab": {
          "base_uri": "https://localhost:8080/"
        },
        "id": "hF3e5IIFSesu",
        "outputId": "c748a2b2-c015-4ff0-83ec-ab7a8efaebe3"
      },
      "source": [
        "var1 = 21\n",
        "var2 = 7\n",
        "var3 = 14\n",
        "\n",
        "if var1 > var2:\n",
        "  print('mayor a 2')\n",
        "elif var1 > var3:\n",
        "  print('mayor a 2')\n",
        "else:\n",
        "  print('menor a todos')"
      ],
      "execution_count": null,
      "outputs": [
        {
          "output_type": "stream",
          "text": [
            "mayor a 2\n"
          ],
          "name": "stdout"
        }
      ]
    },
    {
      "cell_type": "markdown",
      "metadata": {
        "id": "fzJ2gGYeSHfy"
      },
      "source": [
        "Iterativas"
      ]
    },
    {
      "cell_type": "code",
      "metadata": {
        "colab": {
          "base_uri": "https://localhost:8080/"
        },
        "id": "MPHWiSy3R1sl",
        "outputId": "d4b41991-2126-44eb-ffc4-6b2b0c1cc728"
      },
      "source": [
        "var1 = 5\n",
        "\n",
        "while var1 > 0:\n",
        "  print(var1)\n",
        "  var1 -= 1"
      ],
      "execution_count": null,
      "outputs": [
        {
          "output_type": "stream",
          "text": [
            "5\n",
            "4\n",
            "3\n",
            "2\n",
            "1\n"
          ],
          "name": "stdout"
        }
      ]
    },
    {
      "cell_type": "code",
      "metadata": {
        "colab": {
          "base_uri": "https://localhost:8080/"
        },
        "id": "jdJYnQj8UvFw",
        "outputId": "60d8265b-3d3b-4ad3-c185-d20c3a32079b"
      },
      "source": [
        "for var in range(5):\n",
        "  print(var)"
      ],
      "execution_count": null,
      "outputs": [
        {
          "output_type": "stream",
          "text": [
            "0\n",
            "1\n",
            "2\n",
            "3\n",
            "4\n"
          ],
          "name": "stdout"
        }
      ]
    },
    {
      "cell_type": "code",
      "metadata": {
        "colab": {
          "base_uri": "https://localhost:8080/"
        },
        "id": "gzF9VsB4U52r",
        "outputId": "b2ba802a-d190-41cd-c74a-87cede98f294"
      },
      "source": [
        "for var in range(2,5):\n",
        "  print(var)"
      ],
      "execution_count": null,
      "outputs": [
        {
          "output_type": "stream",
          "text": [
            "2\n",
            "3\n",
            "4\n"
          ],
          "name": "stdout"
        }
      ]
    },
    {
      "cell_type": "code",
      "metadata": {
        "colab": {
          "base_uri": "https://localhost:8080/"
        },
        "id": "gcKKQNUCU8Z6",
        "outputId": "f7f9fec2-3517-4609-d702-778e193791b6"
      },
      "source": [
        "for var in range(2,5,2):\n",
        "  print(var)"
      ],
      "execution_count": null,
      "outputs": [
        {
          "output_type": "stream",
          "text": [
            "2\n",
            "4\n"
          ],
          "name": "stdout"
        }
      ]
    },
    {
      "cell_type": "markdown",
      "metadata": {
        "id": "9X1SLpewVFH-"
      },
      "source": [
        "# Comentarios"
      ]
    },
    {
      "cell_type": "code",
      "metadata": {
        "colab": {
          "base_uri": "https://localhost:8080/"
        },
        "id": "Mf04AFGoVEo9",
        "outputId": "0ed36ca2-a1a5-4bb4-9dc9-db4eff1b658e"
      },
      "source": [
        "'''\n",
        "Genera numeros del 0 al 5 y valida si es par\n",
        "'''\n",
        "for var in range(5):\n",
        "  print('Numero',var)\n",
        "\n",
        "  # Valida si es par\n",
        "  if var % 2 == 0:\n",
        "    print(\"\\tEs PAR\")\n",
        "  else:\n",
        "    print(\"\\tEs IMPAR\")  "
      ],
      "execution_count": null,
      "outputs": [
        {
          "output_type": "stream",
          "text": [
            "Numero 0\n",
            "\tEs PAR\n",
            "Numero 1\n",
            "\tEs IMPAR\n",
            "Numero 2\n",
            "\tEs PAR\n",
            "Numero 3\n",
            "\tEs IMPAR\n",
            "Numero 4\n",
            "\tEs PAR\n"
          ],
          "name": "stdout"
        }
      ]
    },
    {
      "cell_type": "markdown",
      "metadata": {
        "id": "gwB8Mx9TV-zf"
      },
      "source": [
        "# Listas"
      ]
    },
    {
      "cell_type": "code",
      "metadata": {
        "id": "U1vKP-suU-Zi"
      },
      "source": [
        "lista1 = ()"
      ],
      "execution_count": null,
      "outputs": []
    },
    {
      "cell_type": "code",
      "metadata": {
        "id": "rz60Egl0WJz9"
      },
      "source": [
        "lista2 = list()"
      ],
      "execution_count": null,
      "outputs": []
    },
    {
      "cell_type": "code",
      "metadata": {
        "id": "-rUZnhuJWLYU"
      },
      "source": [
        "lista3 = [1, 2, 4, 7, 'Hola', True, 16, 19, False]"
      ],
      "execution_count": null,
      "outputs": []
    },
    {
      "cell_type": "code",
      "metadata": {
        "colab": {
          "base_uri": "https://localhost:8080/"
        },
        "id": "7LtFCP9hXNiA",
        "outputId": "1573ea61-ea86-4fa2-8c4b-2691f84b2716"
      },
      "source": [
        "print(lista3)"
      ],
      "execution_count": null,
      "outputs": [
        {
          "output_type": "stream",
          "text": [
            "[1, 2, 4, 7, 'Hola', True, 16, 19, False]\n"
          ],
          "name": "stdout"
        }
      ]
    },
    {
      "cell_type": "code",
      "metadata": {
        "colab": {
          "base_uri": "https://localhost:8080/"
        },
        "id": "6r48nM_4XRZ7",
        "outputId": "c68fc815-6a88-45c2-cd03-3baaa4557390"
      },
      "source": [
        "print(lista3[0])"
      ],
      "execution_count": null,
      "outputs": [
        {
          "output_type": "stream",
          "text": [
            "1\n"
          ],
          "name": "stdout"
        }
      ]
    },
    {
      "cell_type": "code",
      "metadata": {
        "colab": {
          "base_uri": "https://localhost:8080/"
        },
        "id": "TB8EJKj3Wohm",
        "outputId": "c8c864aa-0bd0-4c4f-8ebf-1f3faeb0abdc"
      },
      "source": [
        "print(lista3[2:6])"
      ],
      "execution_count": null,
      "outputs": [
        {
          "output_type": "stream",
          "text": [
            "[4, 7, 'Hola', True]\n"
          ],
          "name": "stdout"
        }
      ]
    },
    {
      "cell_type": "code",
      "metadata": {
        "colab": {
          "base_uri": "https://localhost:8080/"
        },
        "id": "oFIzfzI3WqRt",
        "outputId": "ffb624ed-43b2-44ff-d557-e88852edda27"
      },
      "source": [
        "print(lista3[2:])"
      ],
      "execution_count": null,
      "outputs": [
        {
          "output_type": "stream",
          "text": [
            "[4, 7, 'Hola', True, 16, 19, False]\n"
          ],
          "name": "stdout"
        }
      ]
    },
    {
      "cell_type": "code",
      "metadata": {
        "colab": {
          "base_uri": "https://localhost:8080/"
        },
        "id": "cQDAi_5KW0vW",
        "outputId": "f4659abb-9c16-44c9-ef09-84804c4ed761"
      },
      "source": [
        "print(lista3[:6])"
      ],
      "execution_count": null,
      "outputs": [
        {
          "output_type": "stream",
          "text": [
            "[1, 2, 4, 7, 'Hola', True]\n"
          ],
          "name": "stdout"
        }
      ]
    },
    {
      "cell_type": "code",
      "metadata": {
        "colab": {
          "base_uri": "https://localhost:8080/"
        },
        "id": "iMZW4BhiW26j",
        "outputId": "b35b2a9d-509b-45e4-a3a9-02744792aafc"
      },
      "source": [
        "print(lista3[-4:-1])"
      ],
      "execution_count": null,
      "outputs": [
        {
          "output_type": "stream",
          "text": [
            "[True, 16, 19]\n"
          ],
          "name": "stdout"
        }
      ]
    },
    {
      "cell_type": "code",
      "metadata": {
        "colab": {
          "base_uri": "https://localhost:8080/"
        },
        "id": "ZTWMyhYHW8Ug",
        "outputId": "d03d41f4-8ffd-49ab-afc8-6babc383b2f4"
      },
      "source": [
        "print(lista3[2:7:2])"
      ],
      "execution_count": null,
      "outputs": [
        {
          "output_type": "stream",
          "text": [
            "[4, 'Hola', 16]\n"
          ],
          "name": "stdout"
        }
      ]
    },
    {
      "cell_type": "code",
      "metadata": {
        "colab": {
          "base_uri": "https://localhost:8080/"
        },
        "id": "83YQrNPsXCIA",
        "outputId": "164ce6f8-4560-4ad4-aac5-259adb17db85"
      },
      "source": [
        "print(len(lista3))"
      ],
      "execution_count": null,
      "outputs": [
        {
          "output_type": "stream",
          "text": [
            "9\n"
          ],
          "name": "stdout"
        }
      ]
    },
    {
      "cell_type": "code",
      "metadata": {
        "colab": {
          "base_uri": "https://localhost:8080/"
        },
        "id": "99pe4XXnYd6y",
        "outputId": "4dd1351f-2c45-4a06-f035-9b5459e18fa8"
      },
      "source": [
        "print(len(lista2))"
      ],
      "execution_count": null,
      "outputs": [
        {
          "output_type": "stream",
          "text": [
            "0\n"
          ],
          "name": "stdout"
        }
      ]
    },
    {
      "cell_type": "code",
      "metadata": {
        "colab": {
          "base_uri": "https://localhost:8080/"
        },
        "id": "k3JedeV0ZW1b",
        "outputId": "4ceef796-4187-49f1-b699-7d1ee5ae2836"
      },
      "source": [
        "lista2 = lista3[2:6]\n",
        "print(lista3)\n",
        "print(lista2)\n",
        "print(len(lista2))"
      ],
      "execution_count": null,
      "outputs": [
        {
          "output_type": "stream",
          "text": [
            "[1, 2, 4, 7, 'Hola', True, 16, 19, False]\n",
            "[4, 7, 'Hola', True]\n",
            "4\n"
          ],
          "name": "stdout"
        }
      ]
    },
    {
      "cell_type": "code",
      "metadata": {
        "colab": {
          "base_uri": "https://localhost:8080/"
        },
        "id": "t2swVyj7ZdyJ",
        "outputId": "e7cedcbd-b29f-469a-8de8-de259f86c2e7"
      },
      "source": [
        "lista2.append(5)\n",
        "print(lista2)"
      ],
      "execution_count": null,
      "outputs": [
        {
          "output_type": "stream",
          "text": [
            "[4, 7, 'Hola', True, 5]\n"
          ],
          "name": "stdout"
        }
      ]
    },
    {
      "cell_type": "code",
      "metadata": {
        "colab": {
          "base_uri": "https://localhost:8080/"
        },
        "id": "WgYGYt2UZmln",
        "outputId": "7ad535fc-10f4-4508-a363-24b792c03bba"
      },
      "source": [
        "print(lista2.index(7))"
      ],
      "execution_count": null,
      "outputs": [
        {
          "output_type": "stream",
          "text": [
            "1\n"
          ],
          "name": "stdout"
        }
      ]
    },
    {
      "cell_type": "code",
      "metadata": {
        "colab": {
          "base_uri": "https://localhost:8080/"
        },
        "id": "HWHCIc6iZyyG",
        "outputId": "4945719f-434e-4910-cc99-b31fc0085049"
      },
      "source": [
        "lista2.append(4)\n",
        "print(lista2)\n",
        "print(lista2.count(4))"
      ],
      "execution_count": null,
      "outputs": [
        {
          "output_type": "stream",
          "text": [
            "[4, 7, 'Hola', True, 5, 4, 4]\n",
            "3\n"
          ],
          "name": "stdout"
        }
      ]
    },
    {
      "cell_type": "code",
      "metadata": {
        "colab": {
          "base_uri": "https://localhost:8080/"
        },
        "id": "uEu1p85QZ5Ds",
        "outputId": "0fa9e777-c7e6-4f1e-b626-867281de3a5d"
      },
      "source": [
        "lista2.reverse()\n",
        "print(lista2)"
      ],
      "execution_count": null,
      "outputs": [
        {
          "output_type": "stream",
          "text": [
            "[4, 4, 5, True, 'Hola', 7, 4]\n"
          ],
          "name": "stdout"
        }
      ]
    },
    {
      "cell_type": "code",
      "metadata": {
        "colab": {
          "base_uri": "https://localhost:8080/"
        },
        "id": "vQ7mV_T3aANy",
        "outputId": "376ea53f-a53b-40dc-d631-80647735afb0"
      },
      "source": [
        "lista2.remove(True)\n",
        "print(lista2)"
      ],
      "execution_count": null,
      "outputs": [
        {
          "output_type": "stream",
          "text": [
            "[4, 4, 5, 7, 4]\n"
          ],
          "name": "stdout"
        }
      ]
    },
    {
      "cell_type": "code",
      "metadata": {
        "colab": {
          "base_uri": "https://localhost:8080/"
        },
        "id": "Tnj_iaiMaELM",
        "outputId": "b77c9248-305e-4b4b-8216-cee66e07e52b"
      },
      "source": [
        "lista2.sort()\n",
        "print(lista2)"
      ],
      "execution_count": null,
      "outputs": [
        {
          "output_type": "stream",
          "text": [
            "[4, 4, 4, 5, 7]\n"
          ],
          "name": "stdout"
        }
      ]
    },
    {
      "cell_type": "code",
      "metadata": {
        "colab": {
          "base_uri": "https://localhost:8080/"
        },
        "id": "w7wwF1LLaaZ3",
        "outputId": "154d5c44-b916-4035-e553-28f08d0d5fa8"
      },
      "source": [
        "print(lista3)\n",
        "lista3.extend(lista2)\n",
        "print(lista3)"
      ],
      "execution_count": null,
      "outputs": [
        {
          "output_type": "stream",
          "text": [
            "[1, 2, 4, 7, 'Hola', True, 16, 19, False]\n",
            "[1, 2, 4, 7, 'Hola', True, 16, 19, False, 4, 4, 4, 5, 7]\n"
          ],
          "name": "stdout"
        }
      ]
    },
    {
      "cell_type": "code",
      "metadata": {
        "colab": {
          "base_uri": "https://localhost:8080/"
        },
        "id": "IpS3lB_Jbc6L",
        "outputId": "d237bc47-3ef8-4caa-c27b-2ea8adea5aa0"
      },
      "source": [
        "lista3.clear()\n",
        "print(lista3)"
      ],
      "execution_count": null,
      "outputs": [
        {
          "output_type": "stream",
          "text": [
            "[]\n"
          ],
          "name": "stdout"
        }
      ]
    },
    {
      "cell_type": "code",
      "metadata": {
        "colab": {
          "base_uri": "https://localhost:8080/"
        },
        "id": "S6L28jg8dIG6",
        "outputId": "f618c06e-79d4-4276-9e83-5c348aa06e19"
      },
      "source": [
        "print(lista2)\n",
        "lista2.insert(2, 1220)\n",
        "print(lista2)"
      ],
      "execution_count": null,
      "outputs": [
        {
          "output_type": "stream",
          "text": [
            "[4, 4, 4, 5, 7]\n",
            "[4, 4, 1220, 4, 5, 7]\n"
          ],
          "name": "stdout"
        }
      ]
    },
    {
      "cell_type": "code",
      "metadata": {
        "colab": {
          "base_uri": "https://localhost:8080/"
        },
        "id": "C_r-fZrsdcPi",
        "outputId": "9894b71f-5ae4-4c17-e0a6-0c55e5f6e04d"
      },
      "source": [
        "print(lista2)\n",
        "lista2.pop(2)\n",
        "print(lista2)"
      ],
      "execution_count": null,
      "outputs": [
        {
          "output_type": "stream",
          "text": [
            "[4, 4, 1220, 4, 5, 7]\n",
            "[4, 4, 4, 5, 7]\n"
          ],
          "name": "stdout"
        }
      ]
    },
    {
      "cell_type": "code",
      "metadata": {
        "id": "Hvi-hkdidjFA"
      },
      "source": [
        "lista1 = lista2"
      ],
      "execution_count": null,
      "outputs": []
    },
    {
      "cell_type": "code",
      "metadata": {
        "colab": {
          "base_uri": "https://localhost:8080/"
        },
        "id": "mpq_olnydqhu",
        "outputId": "cb00765b-1128-4451-e251-5d117fe55019"
      },
      "source": [
        "print(lista1)\n",
        "print(lista2)\n",
        "lista1[2] =100\n",
        "print(lista1)\n",
        "print(lista2)"
      ],
      "execution_count": null,
      "outputs": [
        {
          "output_type": "stream",
          "text": [
            "[4, 4, 4, 5, 7]\n",
            "[4, 4, 4, 5, 7]\n",
            "[4, 4, 100, 5, 7]\n",
            "[4, 4, 100, 5, 7]\n"
          ],
          "name": "stdout"
        }
      ]
    },
    {
      "cell_type": "code",
      "metadata": {
        "id": "prerp573d47g"
      },
      "source": [
        "lista1 = lista2.copy()"
      ],
      "execution_count": null,
      "outputs": []
    },
    {
      "cell_type": "code",
      "metadata": {
        "colab": {
          "base_uri": "https://localhost:8080/"
        },
        "id": "Li1lwX2rd2lK",
        "outputId": "4b946f36-1925-4f50-8d36-1457cbee92bf"
      },
      "source": [
        "print(lista1)\n",
        "print(lista2)\n",
        "lista1[2] = 1000\n",
        "print(lista1)\n",
        "print(lista2)"
      ],
      "execution_count": null,
      "outputs": [
        {
          "output_type": "stream",
          "text": [
            "[4, 4, 100, 5, 7]\n",
            "[4, 4, 100, 5, 7]\n",
            "[4, 4, 1000, 5, 7]\n",
            "[4, 4, 100, 5, 7]\n"
          ],
          "name": "stdout"
        }
      ]
    }
  ]
}